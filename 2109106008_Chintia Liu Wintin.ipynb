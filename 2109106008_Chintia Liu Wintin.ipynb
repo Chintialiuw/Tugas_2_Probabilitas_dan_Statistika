{
 "cells": [
  {
   "cell_type": "markdown",
   "id": "60cf2603-bb19-45b4-be0d-b86699117434",
   "metadata": {},
   "source": [
    "#### Nama  : Chintia Liu Wintin\n",
    "#### NIM   : 2109106008\n",
    "#### Kelas : Informatika A'21"
   ]
  },
  {
   "cell_type": "markdown",
   "id": "ba5603b2-299b-4c79-bdd9-c40edf4d9ae6",
   "metadata": {},
   "source": [
    "## Mengimport Library yang diperlukan"
   ]
  },
  {
   "cell_type": "code",
   "execution_count": 115,
   "id": "f1f227c3-41b2-4e66-813f-78c5a517e526",
   "metadata": {},
   "outputs": [],
   "source": [
    "import pandas as pd\n",
    "import numpy as np\n",
    "from matplotlib import pyplot as plt\n",
    "\n",
    "import seaborn as sns"
   ]
  },
  {
   "cell_type": "markdown",
   "id": "483fcb57-041f-41a7-8da3-fd2be8e5fadd",
   "metadata": {},
   "source": [
    "## Membaca File CSV"
   ]
  },
  {
   "cell_type": "code",
   "execution_count": 17,
   "id": "c262c9d6-0ddb-43ed-8515-d4ae62eb1ec8",
   "metadata": {},
   "outputs": [],
   "source": [
    "df = pd.read_csv(\"StudentsPerformance.csv\")"
   ]
  },
  {
   "cell_type": "markdown",
   "id": "23b9553f-60cb-41c9-a4ed-498a25ccb172",
   "metadata": {},
   "source": [
    "## Menentukan Jenis Tipe Data"
   ]
  },
  {
   "cell_type": "code",
   "execution_count": 114,
   "id": "7cdf5f6c-b607-4271-b8c9-9aaa7bd90389",
   "metadata": {},
   "outputs": [
    {
     "name": "stdout",
     "output_type": "stream",
     "text": [
      "<class 'pandas.core.frame.DataFrame'>\n",
      "RangeIndex: 1000 entries, 0 to 999\n",
      "Data columns (total 8 columns):\n",
      " #   Column                       Non-Null Count  Dtype \n",
      "---  ------                       --------------  ----- \n",
      " 0   gender                       1000 non-null   object\n",
      " 1   race/ethnicity               1000 non-null   object\n",
      " 2   parental level of education  1000 non-null   object\n",
      " 3   lunch                        1000 non-null   object\n",
      " 4   test preparation course      1000 non-null   object\n",
      " 5   math_score                   1000 non-null   int64 \n",
      " 6   reading_score                1000 non-null   int64 \n",
      " 7   writing_score                1000 non-null   int64 \n",
      "dtypes: int64(3), object(5)\n",
      "memory usage: 62.6+ KB\n"
     ]
    }
   ],
   "source": [
    "df.info()"
   ]
  },
  {
   "cell_type": "markdown",
   "id": "a10ed418-5d27-49db-98fd-c24a894ad743",
   "metadata": {},
   "source": [
    "# Bagian A"
   ]
  },
  {
   "cell_type": "markdown",
   "id": "69128a5c-fb41-4583-9625-942fa83acd4d",
   "metadata": {},
   "source": [
    "### Membuat Tabel Distribusi Frekuensi dan Histogram Variabel reading_score dan writing_score dengan jumlah dan lebar interval sebesar 10"
   ]
  },
  {
   "cell_type": "markdown",
   "id": "a6d06401-7a43-4193-8f39-20b2880fc1d2",
   "metadata": {},
   "source": [
    "##### Tabel Distribusi Frekuensi dengan jumlah dan lebar interval sebesar 10 Variabel reading_score"
   ]
  },
  {
   "cell_type": "code",
   "execution_count": 87,
   "id": "7cd6589d-ad05-42c6-b85c-595efbc133ae",
   "metadata": {},
   "outputs": [
    {
     "data": {
      "text/html": [
       "<div>\n",
       "<style scoped>\n",
       "    .dataframe tbody tr th:only-of-type {\n",
       "        vertical-align: middle;\n",
       "    }\n",
       "\n",
       "    .dataframe tbody tr th {\n",
       "        vertical-align: top;\n",
       "    }\n",
       "\n",
       "    .dataframe thead th {\n",
       "        text-align: right;\n",
       "    }\n",
       "</style>\n",
       "<table border=\"1\" class=\"dataframe\">\n",
       "  <thead>\n",
       "    <tr style=\"text-align: right;\">\n",
       "      <th></th>\n",
       "      <th>reading_score</th>\n",
       "      <th>frekuensi</th>\n",
       "    </tr>\n",
       "  </thead>\n",
       "  <tbody>\n",
       "    <tr>\n",
       "      <th>0</th>\n",
       "      <td>(0, 10]</td>\n",
       "      <td>0</td>\n",
       "    </tr>\n",
       "    <tr>\n",
       "      <th>1</th>\n",
       "      <td>(10, 20]</td>\n",
       "      <td>1</td>\n",
       "    </tr>\n",
       "    <tr>\n",
       "      <th>2</th>\n",
       "      <td>(20, 30]</td>\n",
       "      <td>7</td>\n",
       "    </tr>\n",
       "    <tr>\n",
       "      <th>3</th>\n",
       "      <td>(30, 40]</td>\n",
       "      <td>19</td>\n",
       "    </tr>\n",
       "    <tr>\n",
       "      <th>4</th>\n",
       "      <td>(40, 50]</td>\n",
       "      <td>70</td>\n",
       "    </tr>\n",
       "    <tr>\n",
       "      <th>5</th>\n",
       "      <td>(50, 60]</td>\n",
       "      <td>178</td>\n",
       "    </tr>\n",
       "    <tr>\n",
       "      <th>6</th>\n",
       "      <td>(60, 70]</td>\n",
       "      <td>238</td>\n",
       "    </tr>\n",
       "    <tr>\n",
       "      <th>7</th>\n",
       "      <td>(70, 80]</td>\n",
       "      <td>252</td>\n",
       "    </tr>\n",
       "    <tr>\n",
       "      <th>8</th>\n",
       "      <td>(80, 90]</td>\n",
       "      <td>173</td>\n",
       "    </tr>\n",
       "    <tr>\n",
       "      <th>9</th>\n",
       "      <td>(90, 100]</td>\n",
       "      <td>62</td>\n",
       "    </tr>\n",
       "  </tbody>\n",
       "</table>\n",
       "</div>"
      ],
      "text/plain": [
       "  reading_score  frekuensi\n",
       "0       (0, 10]          0\n",
       "1      (10, 20]          1\n",
       "2      (20, 30]          7\n",
       "3      (30, 40]         19\n",
       "4      (40, 50]         70\n",
       "5      (50, 60]        178\n",
       "6      (60, 70]        238\n",
       "7      (70, 80]        252\n",
       "8      (80, 90]        173\n",
       "9     (90, 100]         62"
      ]
     },
     "execution_count": 87,
     "metadata": {},
     "output_type": "execute_result"
    }
   ],
   "source": [
    "interval = pd.interval_range(0, 100, freq = 10)\n",
    "frekuensi = pd.cut(df['reading_score'], interval)\n",
    "frekuensi.value_counts(sort = False).rename_axis(\"reading_score\").reset_index(name = \"frekuensi\")"
   ]
  },
  {
   "cell_type": "markdown",
   "id": "f8370116-5a47-4f3a-9039-f1a94cc74194",
   "metadata": {},
   "source": [
    "##### Grafik Histogram Tabel Distribusi Frekuensi reading_score"
   ]
  },
  {
   "cell_type": "code",
   "execution_count": 120,
   "id": "7142ad3c-0113-4099-b957-46ae0bec004f",
   "metadata": {},
   "outputs": [
    {
     "data": {
      "image/png": "[encoded data removed]",
      "text/plain": [
       "<Figure size 640x480 with 1 Axes>"
      ]
     },
     "metadata": {},
     "output_type": "display_data"
    }
   ],
   "source": [
    "plt.figure()\n",
    "\n",
    "plt.xlabel(\"Interval\")\n",
    "plt.ylabel(\"Frekuensi\")\n",
    "plt.xlim([10, 100])\n",
    "plt.ylim([0, 252])\n",
    "plt.xticks(np.arange(10, 120, 10))\n",
    "plt.hist(df[\"reading_score\"], color = \"orange\")\n",
    "plt.title(\"Histogram Distribusi Frekuensi Variabel reading_score\")\n",
    "plt.show()"
   ]
  },
  {
   "cell_type": "markdown",
   "id": "c6a4d945-6166-4a53-926c-2582801f2f7e",
   "metadata": {},
   "source": [
    "##### Tabel Distribusi Frekuensi dengan jumlah dan lebar interval sebesar 10 Variabel writing_score"
   ]
  },
  {
   "cell_type": "code",
   "execution_count": 19,
   "id": "7aff5661-e565-4b83-9055-198291ab7809",
   "metadata": {},
   "outputs": [
    {
     "data": {
      "text/html": [
       "<div>\n",
       "<style scoped>\n",
       "    .dataframe tbody tr th:only-of-type {\n",
       "        vertical-align: middle;\n",
       "    }\n",
       "\n",
       "    .dataframe tbody tr th {\n",
       "        vertical-align: top;\n",
       "    }\n",
       "\n",
       "    .dataframe thead th {\n",
       "        text-align: right;\n",
       "    }\n",
       "</style>\n",
       "<table border=\"1\" class=\"dataframe\">\n",
       "  <thead>\n",
       "    <tr style=\"text-align: right;\">\n",
       "      <th></th>\n",
       "      <th>writing_score</th>\n",
       "      <th>frekuensi</th>\n",
       "    </tr>\n",
       "  </thead>\n",
       "  <tbody>\n",
       "    <tr>\n",
       "      <th>0</th>\n",
       "      <td>(0, 10]</td>\n",
       "      <td>1</td>\n",
       "    </tr>\n",
       "    <tr>\n",
       "      <th>1</th>\n",
       "      <td>(10, 20]</td>\n",
       "      <td>2</td>\n",
       "    </tr>\n",
       "    <tr>\n",
       "      <th>2</th>\n",
       "      <td>(20, 30]</td>\n",
       "      <td>7</td>\n",
       "    </tr>\n",
       "    <tr>\n",
       "      <th>3</th>\n",
       "      <td>(30, 40]</td>\n",
       "      <td>25</td>\n",
       "    </tr>\n",
       "    <tr>\n",
       "      <th>4</th>\n",
       "      <td>(40, 50]</td>\n",
       "      <td>89</td>\n",
       "    </tr>\n",
       "    <tr>\n",
       "      <th>5</th>\n",
       "      <td>(50, 60]</td>\n",
       "      <td>177</td>\n",
       "    </tr>\n",
       "    <tr>\n",
       "      <th>6</th>\n",
       "      <td>(60, 70]</td>\n",
       "      <td>243</td>\n",
       "    </tr>\n",
       "    <tr>\n",
       "      <th>7</th>\n",
       "      <td>(70, 80]</td>\n",
       "      <td>248</td>\n",
       "    </tr>\n",
       "    <tr>\n",
       "      <th>8</th>\n",
       "      <td>(80, 90]</td>\n",
       "      <td>140</td>\n",
       "    </tr>\n",
       "    <tr>\n",
       "      <th>9</th>\n",
       "      <td>(90, 100]</td>\n",
       "      <td>68</td>\n",
       "    </tr>\n",
       "  </tbody>\n",
       "</table>\n",
       "</div>"
      ],
      "text/plain": [
       "  writing_score  frekuensi\n",
       "0       (0, 10]          1\n",
       "1      (10, 20]          2\n",
       "2      (20, 30]          7\n",
       "3      (30, 40]         25\n",
       "4      (40, 50]         89\n",
       "5      (50, 60]        177\n",
       "6      (60, 70]        243\n",
       "7      (70, 80]        248\n",
       "8      (80, 90]        140\n",
       "9     (90, 100]         68"
      ]
     },
     "execution_count": 19,
     "metadata": {},
     "output_type": "execute_result"
    }
   ],
   "source": [
    "interval = pd.interval_range(0, 100, freq = 10)\n",
    "frekuensi = pd.cut(df['writing_score'], interval)\n",
    "frekuensi.value_counts(sort = False).rename_axis(\"writing_score\").reset_index(name = \"frekuensi\")"
   ]
  },
  {
   "cell_type": "markdown",
   "id": "2564a19d-ff01-4a34-a8cc-76a925791574",
   "metadata": {},
   "source": [
    "##### Grafik Histogram Tabel Distribusi Frekuensi writing_score"
   ]
  },
  {
   "cell_type": "code",
   "execution_count": 121,
   "id": "e406651c-58d8-46cf-9fa4-41b68daab0f3",
   "metadata": {},
   "outputs": [
    {
     "data": {
      "image/png": "[encoded data removed]",
      "text/plain": [
       "<Figure size 640x480 with 1 Axes>"
      ]
     },
     "metadata": {},
     "output_type": "display_data"
    }
   ],
   "source": [
    "plt.figure()\n",
    "\n",
    "plt.xlabel(\"Interval\")\n",
    "plt.ylabel(\"Frekuensi\")\n",
    "plt.xlim([10, 100])\n",
    "plt.ylim([1, 248])\n",
    "plt.xticks(np.arange(10, 120, 10))\n",
    "plt.hist(df[\"writing_score\"], color = \"orange\")\n",
    "plt.title(\"Histogram Distribusi Frekuensi Variabel writing_score\")\n",
    "plt.show()"
   ]
  },
  {
   "cell_type": "markdown",
   "id": "398e0705-5d4d-4449-ae3d-fff22e489cc6",
   "metadata": {},
   "source": [
    "# Bagian B"
   ]
  },
  {
   "cell_type": "markdown",
   "id": "3a4a187e-915d-477b-a8d4-da121f481088",
   "metadata": {
    "tags": []
   },
   "source": [
    "### Menentukan Nilai Tendensi Sentral : Rata-Rata, Median, Modus, Min, dan Max"
   ]
  },
  {
   "cell_type": "markdown",
   "id": "6edd7703-29c2-4689-ad90-9c174fac41c7",
   "metadata": {},
   "source": [
    "##### Nilai Tendensi Sentral Variabel reading_score : Rata-Rata, Min, dan Max"
   ]
  },
  {
   "cell_type": "code",
   "execution_count": 20,
   "id": "c183af9e-2f60-4fe2-8d17-5bed585d54dc",
   "metadata": {},
   "outputs": [
    {
     "data": {
      "text/html": [
       "<div>\n",
       "<style scoped>\n",
       "    .dataframe tbody tr th:only-of-type {\n",
       "        vertical-align: middle;\n",
       "    }\n",
       "\n",
       "    .dataframe tbody tr th {\n",
       "        vertical-align: top;\n",
       "    }\n",
       "\n",
       "    .dataframe thead th {\n",
       "        text-align: right;\n",
       "    }\n",
       "</style>\n",
       "<table border=\"1\" class=\"dataframe\">\n",
       "  <thead>\n",
       "    <tr style=\"text-align: right;\">\n",
       "      <th></th>\n",
       "      <th>reading_score</th>\n",
       "    </tr>\n",
       "  </thead>\n",
       "  <tbody>\n",
       "    <tr>\n",
       "      <th>count</th>\n",
       "      <td>1000.000000</td>\n",
       "    </tr>\n",
       "    <tr>\n",
       "      <th>mean</th>\n",
       "      <td>69.169000</td>\n",
       "    </tr>\n",
       "    <tr>\n",
       "      <th>std</th>\n",
       "      <td>14.600192</td>\n",
       "    </tr>\n",
       "    <tr>\n",
       "      <th>min</th>\n",
       "      <td>17.000000</td>\n",
       "    </tr>\n",
       "    <tr>\n",
       "      <th>25%</th>\n",
       "      <td>59.000000</td>\n",
       "    </tr>\n",
       "    <tr>\n",
       "      <th>50%</th>\n",
       "      <td>70.000000</td>\n",
       "    </tr>\n",
       "    <tr>\n",
       "      <th>75%</th>\n",
       "      <td>79.000000</td>\n",
       "    </tr>\n",
       "    <tr>\n",
       "      <th>max</th>\n",
       "      <td>100.000000</td>\n",
       "    </tr>\n",
       "  </tbody>\n",
       "</table>\n",
       "</div>"
      ],
      "text/plain": [
       "       reading_score\n",
       "count    1000.000000\n",
       "mean       69.169000\n",
       "std        14.600192\n",
       "min        17.000000\n",
       "25%        59.000000\n",
       "50%        70.000000\n",
       "75%        79.000000\n",
       "max       100.000000"
      ]
     },
     "execution_count": 20,
     "metadata": {},
     "output_type": "execute_result"
    }
   ],
   "source": [
    "var = df[[\"reading_score\"]]\n",
    "\n",
    "var.describe()"
   ]
  },
  {
   "cell_type": "markdown",
   "id": "a25a0c0d-3e88-4642-9f28-f71fdb7cd381",
   "metadata": {},
   "source": [
    "##### Nilai Tendensi Sentral Variabel reading_score : Median dan Modus"
   ]
  },
  {
   "cell_type": "code",
   "execution_count": 21,
   "id": "52528d20-534c-40b7-bf06-4a5428a40529",
   "metadata": {},
   "outputs": [
    {
     "data": {
      "text/plain": [
       "70.0"
      ]
     },
     "execution_count": 21,
     "metadata": {},
     "output_type": "execute_result"
    }
   ],
   "source": [
    "df[\"reading_score\"]. median()"
   ]
  },
  {
   "cell_type": "code",
   "execution_count": 22,
   "id": "3e79ba72-df1b-4ef4-97ce-fb46cacec620",
   "metadata": {},
   "outputs": [
    {
     "data": {
      "text/plain": [
       "0    72\n",
       "Name: reading_score, dtype: int64"
      ]
     },
     "execution_count": 22,
     "metadata": {},
     "output_type": "execute_result"
    }
   ],
   "source": [
    "df[\"reading_score\"]. mode()"
   ]
  },
  {
   "cell_type": "markdown",
   "id": "6310e240-3353-4f31-9f3f-4249e65de5e7",
   "metadata": {},
   "source": [
    "##### Nilai Tendensi Sentral Variabel writing_score : Rata-Rata, Min, dan Max"
   ]
  },
  {
   "cell_type": "code",
   "execution_count": 23,
   "id": "b8d9f598-d27e-4138-9e54-c7377de768fc",
   "metadata": {},
   "outputs": [
    {
     "data": {
      "text/html": [
       "<div>\n",
       "<style scoped>\n",
       "    .dataframe tbody tr th:only-of-type {\n",
       "        vertical-align: middle;\n",
       "    }\n",
       "\n",
       "    .dataframe tbody tr th {\n",
       "        vertical-align: top;\n",
       "    }\n",
       "\n",
       "    .dataframe thead th {\n",
       "        text-align: right;\n",
       "    }\n",
       "</style>\n",
       "<table border=\"1\" class=\"dataframe\">\n",
       "  <thead>\n",
       "    <tr style=\"text-align: right;\">\n",
       "      <th></th>\n",
       "      <th>writing_score</th>\n",
       "    </tr>\n",
       "  </thead>\n",
       "  <tbody>\n",
       "    <tr>\n",
       "      <th>count</th>\n",
       "      <td>1000.000000</td>\n",
       "    </tr>\n",
       "    <tr>\n",
       "      <th>mean</th>\n",
       "      <td>68.054000</td>\n",
       "    </tr>\n",
       "    <tr>\n",
       "      <th>std</th>\n",
       "      <td>15.195657</td>\n",
       "    </tr>\n",
       "    <tr>\n",
       "      <th>min</th>\n",
       "      <td>10.000000</td>\n",
       "    </tr>\n",
       "    <tr>\n",
       "      <th>25%</th>\n",
       "      <td>57.750000</td>\n",
       "    </tr>\n",
       "    <tr>\n",
       "      <th>50%</th>\n",
       "      <td>69.000000</td>\n",
       "    </tr>\n",
       "    <tr>\n",
       "      <th>75%</th>\n",
       "      <td>79.000000</td>\n",
       "    </tr>\n",
       "    <tr>\n",
       "      <th>max</th>\n",
       "      <td>100.000000</td>\n",
       "    </tr>\n",
       "  </tbody>\n",
       "</table>\n",
       "</div>"
      ],
      "text/plain": [
       "       writing_score\n",
       "count    1000.000000\n",
       "mean       68.054000\n",
       "std        15.195657\n",
       "min        10.000000\n",
       "25%        57.750000\n",
       "50%        69.000000\n",
       "75%        79.000000\n",
       "max       100.000000"
      ]
     },
     "execution_count": 23,
     "metadata": {},
     "output_type": "execute_result"
    }
   ],
   "source": [
    "var = df[[\"writing_score\"]]\n",
    "\n",
    "var.describe()"
   ]
  },
  {
   "cell_type": "markdown",
   "id": "ea4b6aed-f926-41a4-9cfc-3ff2afd5aa27",
   "metadata": {},
   "source": [
    "##### Nilai Tendensi Sentral Variabel writing_score : Median dan Modus"
   ]
  },
  {
   "cell_type": "code",
   "execution_count": 24,
   "id": "f75d13e5-d37c-4dde-90d7-fc4bd1153a48",
   "metadata": {},
   "outputs": [
    {
     "data": {
      "text/plain": [
       "69.0"
      ]
     },
     "execution_count": 24,
     "metadata": {},
     "output_type": "execute_result"
    }
   ],
   "source": [
    "df[\"writing_score\"]. median()"
   ]
  },
  {
   "cell_type": "code",
   "execution_count": 25,
   "id": "f5a0f761-3fb5-4bcb-89f3-b52bf24275b9",
   "metadata": {},
   "outputs": [
    {
     "data": {
      "text/plain": [
       "0    74\n",
       "Name: writing_score, dtype: int64"
      ]
     },
     "execution_count": 25,
     "metadata": {},
     "output_type": "execute_result"
    }
   ],
   "source": [
    "df[\"writing_score\"]. mode()"
   ]
  },
  {
   "cell_type": "markdown",
   "id": "d43302b4-7c3d-490d-8c17-f888d9c5dcfd",
   "metadata": {},
   "source": [
    "# Bagian C"
   ]
  },
  {
   "cell_type": "markdown",
   "id": "c850ad9c-4bcd-4e69-9ea0-40c12975a78a",
   "metadata": {},
   "source": [
    "### Menentukan Nilai Variasi : Jangkauan Range, Kisaran Interkuartil, Varians, dan Standar Deviasi"
   ]
  },
  {
   "cell_type": "markdown",
   "id": "74c8b1db-78a0-466b-bcda-970f98518aff",
   "metadata": {},
   "source": [
    "##### Nilai Variasi Variabel reading_score : Jangkauan Range"
   ]
  },
  {
   "cell_type": "code",
   "execution_count": 26,
   "id": "22758274-29f7-4e15-aea4-f708439c235c",
   "metadata": {},
   "outputs": [
    {
     "data": {
      "text/plain": [
       "83"
      ]
     },
     "execution_count": 26,
     "metadata": {},
     "output_type": "execute_result"
    }
   ],
   "source": [
    "df.reading_score.max() - df.reading_score.min()"
   ]
  },
  {
   "cell_type": "markdown",
   "id": "638c3bcf-5fa8-4153-998c-160a75d398d6",
   "metadata": {},
   "source": [
    "##### Nilai Variasi Variabel writing_score : Jangkauan Range"
   ]
  },
  {
   "cell_type": "code",
   "execution_count": 27,
   "id": "b86c1756-cbfe-47a7-9624-b2ce825d0a5f",
   "metadata": {},
   "outputs": [
    {
     "data": {
      "text/plain": [
       "90"
      ]
     },
     "execution_count": 27,
     "metadata": {},
     "output_type": "execute_result"
    }
   ],
   "source": [
    "df.writing_score.max() - df.writing_score.min()"
   ]
  },
  {
   "cell_type": "markdown",
   "id": "ecf297e0-d43b-4b6c-9cce-b76f42918697",
   "metadata": {},
   "source": [
    "##### Nilai Variasi Variabel reading_score : Kisaran Interkuartil dan Standar Deviasi"
   ]
  },
  {
   "cell_type": "code",
   "execution_count": 28,
   "id": "e97f7389-8182-4ee1-9cfa-890ffbd04ae5",
   "metadata": {},
   "outputs": [
    {
     "data": {
      "text/html": [
       "<div>\n",
       "<style scoped>\n",
       "    .dataframe tbody tr th:only-of-type {\n",
       "        vertical-align: middle;\n",
       "    }\n",
       "\n",
       "    .dataframe tbody tr th {\n",
       "        vertical-align: top;\n",
       "    }\n",
       "\n",
       "    .dataframe thead th {\n",
       "        text-align: right;\n",
       "    }\n",
       "</style>\n",
       "<table border=\"1\" class=\"dataframe\">\n",
       "  <thead>\n",
       "    <tr style=\"text-align: right;\">\n",
       "      <th></th>\n",
       "      <th>reading_score</th>\n",
       "    </tr>\n",
       "  </thead>\n",
       "  <tbody>\n",
       "    <tr>\n",
       "      <th>count</th>\n",
       "      <td>1000.000000</td>\n",
       "    </tr>\n",
       "    <tr>\n",
       "      <th>mean</th>\n",
       "      <td>69.169000</td>\n",
       "    </tr>\n",
       "    <tr>\n",
       "      <th>std</th>\n",
       "      <td>14.600192</td>\n",
       "    </tr>\n",
       "    <tr>\n",
       "      <th>min</th>\n",
       "      <td>17.000000</td>\n",
       "    </tr>\n",
       "    <tr>\n",
       "      <th>25%</th>\n",
       "      <td>59.000000</td>\n",
       "    </tr>\n",
       "    <tr>\n",
       "      <th>50%</th>\n",
       "      <td>70.000000</td>\n",
       "    </tr>\n",
       "    <tr>\n",
       "      <th>75%</th>\n",
       "      <td>79.000000</td>\n",
       "    </tr>\n",
       "    <tr>\n",
       "      <th>max</th>\n",
       "      <td>100.000000</td>\n",
       "    </tr>\n",
       "  </tbody>\n",
       "</table>\n",
       "</div>"
      ],
      "text/plain": [
       "       reading_score\n",
       "count    1000.000000\n",
       "mean       69.169000\n",
       "std        14.600192\n",
       "min        17.000000\n",
       "25%        59.000000\n",
       "50%        70.000000\n",
       "75%        79.000000\n",
       "max       100.000000"
      ]
     },
     "execution_count": 28,
     "metadata": {},
     "output_type": "execute_result"
    }
   ],
   "source": [
    "data_1 = df[[\"reading_score\"]]\n",
    "\n",
    "data_1.describe()"
   ]
  },
  {
   "cell_type": "code",
   "execution_count": 29,
   "id": "de538ff8-af5b-4a46-a167-f7872616284a",
   "metadata": {},
   "outputs": [
    {
     "data": {
      "text/plain": [
       "10.0"
      ]
     },
     "execution_count": 29,
     "metadata": {},
     "output_type": "execute_result"
    }
   ],
   "source": [
    "q25, q75 = np.percentile(data_1, 25), np.percentile(data_1, 75)\n",
    "iqr = (q75 - q25)/2\n",
    "np.round(iqr)\n",
    "iqr"
   ]
  },
  {
   "cell_type": "markdown",
   "id": "9c2baf68-2626-4d99-92ef-2871d9beaa9c",
   "metadata": {},
   "source": [
    "##### Nilai Variasi Variabel writing_score : Kisaran Interkuartil dan Standar Deviasi"
   ]
  },
  {
   "cell_type": "code",
   "execution_count": 30,
   "id": "0acf07a5-2f30-4015-9eee-99132005c8bd",
   "metadata": {},
   "outputs": [
    {
     "data": {
      "text/html": [
       "<div>\n",
       "<style scoped>\n",
       "    .dataframe tbody tr th:only-of-type {\n",
       "        vertical-align: middle;\n",
       "    }\n",
       "\n",
       "    .dataframe tbody tr th {\n",
       "        vertical-align: top;\n",
       "    }\n",
       "\n",
       "    .dataframe thead th {\n",
       "        text-align: right;\n",
       "    }\n",
       "</style>\n",
       "<table border=\"1\" class=\"dataframe\">\n",
       "  <thead>\n",
       "    <tr style=\"text-align: right;\">\n",
       "      <th></th>\n",
       "      <th>writing_score</th>\n",
       "    </tr>\n",
       "  </thead>\n",
       "  <tbody>\n",
       "    <tr>\n",
       "      <th>count</th>\n",
       "      <td>1000.000000</td>\n",
       "    </tr>\n",
       "    <tr>\n",
       "      <th>mean</th>\n",
       "      <td>68.054000</td>\n",
       "    </tr>\n",
       "    <tr>\n",
       "      <th>std</th>\n",
       "      <td>15.195657</td>\n",
       "    </tr>\n",
       "    <tr>\n",
       "      <th>min</th>\n",
       "      <td>10.000000</td>\n",
       "    </tr>\n",
       "    <tr>\n",
       "      <th>25%</th>\n",
       "      <td>57.750000</td>\n",
       "    </tr>\n",
       "    <tr>\n",
       "      <th>50%</th>\n",
       "      <td>69.000000</td>\n",
       "    </tr>\n",
       "    <tr>\n",
       "      <th>75%</th>\n",
       "      <td>79.000000</td>\n",
       "    </tr>\n",
       "    <tr>\n",
       "      <th>max</th>\n",
       "      <td>100.000000</td>\n",
       "    </tr>\n",
       "  </tbody>\n",
       "</table>\n",
       "</div>"
      ],
      "text/plain": [
       "       writing_score\n",
       "count    1000.000000\n",
       "mean       68.054000\n",
       "std        15.195657\n",
       "min        10.000000\n",
       "25%        57.750000\n",
       "50%        69.000000\n",
       "75%        79.000000\n",
       "max       100.000000"
      ]
     },
     "execution_count": 30,
     "metadata": {},
     "output_type": "execute_result"
    }
   ],
   "source": [
    "data_2 = df[[\"writing_score\"]]\n",
    "\n",
    "data_2.describe()"
   ]
  },
  {
   "cell_type": "code",
   "execution_count": 31,
   "id": "ff5b33eb-f8c7-4a3c-85c9-f9194afc1081",
   "metadata": {},
   "outputs": [
    {
     "data": {
      "text/plain": [
       "10.625"
      ]
     },
     "execution_count": 31,
     "metadata": {},
     "output_type": "execute_result"
    }
   ],
   "source": [
    "q25, q75 = np.percentile(data_2, 25), np.percentile(data_2, 75)\n",
    "iqr = (q75 - q25)/2\n",
    "np.round(iqr)\n",
    "iqr"
   ]
  },
  {
   "cell_type": "markdown",
   "id": "62070113-73a6-4d26-b7cb-6f48ff369919",
   "metadata": {},
   "source": [
    "##### Nilai Variansi Variabel reading_score : Varians"
   ]
  },
  {
   "cell_type": "code",
   "execution_count": 32,
   "id": "bb6c043c-bb61-41f1-a3eb-423dd9761cbc",
   "metadata": {},
   "outputs": [
    {
     "data": {
      "text/plain": [
       "reading_score    213.165605\n",
       "dtype: float64"
      ]
     },
     "execution_count": 32,
     "metadata": {},
     "output_type": "execute_result"
    }
   ],
   "source": [
    "df[['reading_score']].var()"
   ]
  },
  {
   "cell_type": "markdown",
   "id": "48b7b261-15c1-451e-b53a-08b6d7bebfc7",
   "metadata": {},
   "source": [
    "##### Nilai Variansi Variabel writing_score : Varians"
   ]
  },
  {
   "cell_type": "code",
   "execution_count": 33,
   "id": "247d56c1-2907-4718-8a16-729d5c4f26e7",
   "metadata": {},
   "outputs": [
    {
     "data": {
      "text/plain": [
       "writing_score    230.907992\n",
       "dtype: float64"
      ]
     },
     "execution_count": 33,
     "metadata": {},
     "output_type": "execute_result"
    }
   ],
   "source": [
    "df[['writing_score']].var()"
   ]
  },
  {
   "cell_type": "markdown",
   "id": "998f3a66-f59a-49f0-8f7a-c2badab9d106",
   "metadata": {},
   "source": [
    "# Bagian D"
   ]
  },
  {
   "cell_type": "markdown",
   "id": "0d49b6f7-fa58-4470-8090-c5c9d35717ac",
   "metadata": {},
   "source": [
    "### Membuat Grafik data Variabel reading_score dan writing_score : Histogram, Box Plot, dan Menentukan Nilai Skewness, serta Kurtosis"
   ]
  },
  {
   "cell_type": "markdown",
   "id": "6707e9fb-11c3-4580-9c7c-9737d2cdce1d",
   "metadata": {},
   "source": [
    "##### Grafik Histogram Variabel reading_score"
   ]
  },
  {
   "cell_type": "code",
   "execution_count": 109,
   "id": "7ad98c89-31ee-44f9-b07b-785555963736",
   "metadata": {},
   "outputs": [
    {
     "data": {
      "image/png": "[encoded data removed]",
      "text/plain": [
       "<Figure size 640x480 with 1 Axes>"
      ]
     },
     "metadata": {},
     "output_type": "display_data"
    }
   ],
   "source": [
    "df['reading_score'].plot.hist(color = \"orange\")\n",
    "plt.xlabel('reading_score')\n",
    "plt.title(\"Histogram reading_score\")\n",
    "plt.show()"
   ]
  },
  {
   "cell_type": "markdown",
   "id": "14838351-6149-4003-834a-641c90b5b95f",
   "metadata": {},
   "source": [
    "##### Grafik Histogram Variabel writing_score"
   ]
  },
  {
   "cell_type": "code",
   "execution_count": 110,
   "id": "8c941ca2-9a9e-4f2b-8f3b-9f0713b20a38",
   "metadata": {},
   "outputs": [
    {
     "data": {
      "image/png": "[encoded data removed]",
      "text/plain": [
       "<Figure size 640x480 with 1 Axes>"
      ]
     },
     "metadata": {},
     "output_type": "display_data"
    }
   ],
   "source": [
    "df['writing_score'].plot.hist(color = \"orange\")\n",
    "plt.xlabel('writing_score')\n",
    "plt.title(\"Histogram writing_score\")\n",
    "plt.show()"
   ]
  },
  {
   "cell_type": "markdown",
   "id": "33a92314-e227-4209-89ad-1a45b277091a",
   "metadata": {},
   "source": [
    "##### Grafik Box Plot Variabel reading_score "
   ]
  },
  {
   "cell_type": "code",
   "execution_count": 55,
   "id": "e3da40eb-bc6e-408b-9d81-c4952716ea65",
   "metadata": {},
   "outputs": [
    {
     "data": {
      "image/png": "[encoded data removed]",
      "text/plain": [
       "<Figure size 640x480 with 1 Axes>"
      ]
     },
     "metadata": {},
     "output_type": "display_data"
    }
   ],
   "source": [
    "sns.boxplot(data = df, y = 'reading_score', color = \"orange\")\n",
    "plt.title(\"Boxplot reading_score\")\n",
    "plt.show()"
   ]
  },
  {
   "cell_type": "markdown",
   "id": "d75bd6d8-f5e7-438f-9c83-3c5e159a9634",
   "metadata": {},
   "source": [
    "##### Grafik Box Plot Variabel writing_score"
   ]
  },
  {
   "cell_type": "code",
   "execution_count": 118,
   "id": "dd1afc6f-ce41-4f80-8745-9dc7dd4174e1",
   "metadata": {},
   "outputs": [
    {
     "data": {
      "image/png": "[encoded data removed]",
      "text/plain": [
       "<Figure size 640x480 with 1 Axes>"
      ]
     },
     "metadata": {},
     "output_type": "display_data"
    }
   ],
   "source": [
    "sns.boxplot(data = df, y = 'writing_score', color = \"green\")\n",
    "plt.title(\"Boxplot writing_score\")\n",
    "plt.show()"
   ]
  },
  {
   "cell_type": "markdown",
   "id": "4a683a9d-3a8a-44bb-be1e-944b0ff3f788",
   "metadata": {},
   "source": [
    "##### Nilai Skewness Variabel reading_score"
   ]
  },
  {
   "cell_type": "code",
   "execution_count": 38,
   "id": "67fc3d7f-f315-47b4-a9c5-252f9b4d909b",
   "metadata": {},
   "outputs": [
    {
     "data": {
      "text/plain": [
       "-0.25910451810923063"
      ]
     },
     "execution_count": 38,
     "metadata": {},
     "output_type": "execute_result"
    }
   ],
   "source": [
    "df['reading_score'].skew()"
   ]
  },
  {
   "cell_type": "markdown",
   "id": "11acbd57-e7e4-4efe-9ab9-8898a64ae93c",
   "metadata": {},
   "source": [
    "##### Nilai Skewness Variabel writing_score"
   ]
  },
  {
   "cell_type": "code",
   "execution_count": 39,
   "id": "afc8b98f-9ae9-458c-b30f-dab7b2db13fd",
   "metadata": {},
   "outputs": [
    {
     "data": {
      "text/plain": [
       "-0.28944397150761897"
      ]
     },
     "execution_count": 39,
     "metadata": {},
     "output_type": "execute_result"
    }
   ],
   "source": [
    "df['writing_score'].skew()"
   ]
  },
  {
   "cell_type": "markdown",
   "id": "959bcd59-ec2c-4b40-9e6a-fe94771aba79",
   "metadata": {},
   "source": [
    "##### Nilai Kurtosis Variabel reading_score"
   ]
  },
  {
   "cell_type": "code",
   "execution_count": 40,
   "id": "cc21687a-c0aa-4864-ab16-723e0a4a782f",
   "metadata": {},
   "outputs": [
    {
     "data": {
      "text/plain": [
       "-0.0682654585647704"
      ]
     },
     "execution_count": 40,
     "metadata": {},
     "output_type": "execute_result"
    }
   ],
   "source": [
    "df['reading_score'].kurt()"
   ]
  },
  {
   "cell_type": "markdown",
   "id": "abc74b1d-0cd0-4fe1-99b1-11025b725097",
   "metadata": {},
   "source": [
    "##### Nilai Kurtosis Variabel writing_score"
   ]
  },
  {
   "cell_type": "code",
   "execution_count": 41,
   "id": "8d76518d-0e90-42ef-9e4b-d294ec987e86",
   "metadata": {},
   "outputs": [
    {
     "data": {
      "text/plain": [
       "-0.03336461500693577"
      ]
     },
     "execution_count": 41,
     "metadata": {},
     "output_type": "execute_result"
    }
   ],
   "source": [
    "df['writing_score'].kurt()"
   ]
  },
  {
   "cell_type": "markdown",
   "id": "6e61d105-af69-4656-b827-05e23e89fdf0",
   "metadata": {},
   "source": [
    "# Bagian E"
   ]
  },
  {
   "cell_type": "markdown",
   "id": "29b3d843-68d4-45c9-8551-c43d81d0d5b1",
   "metadata": {},
   "source": [
    "### Membuat Scatter Plot antara writing_score (y) dan reading_score (x)"
   ]
  },
  {
   "cell_type": "code",
   "execution_count": 112,
   "id": "f7d09429-2d0d-413e-88df-4f95c7c1a820",
   "metadata": {},
   "outputs": [
    {
     "data": {
      "image/png": "[encoded data removed]",
      "text/plain": [
       "<Figure size 640x480 with 1 Axes>"
      ]
     },
     "metadata": {},
     "output_type": "display_data"
    }
   ],
   "source": [
    "x = list(df['reading_score'])\n",
    "y = list(df['writing_score'])\n",
    "\n",
    "plt.title('Scatter Plot reading_score dan writing_score')\n",
    "plt.scatter(x, y, color = \"orange\")\n",
    "plt.xlabel('reading_score')\n",
    "plt.ylabel('writing_score')\n",
    "plt.show()"
   ]
  },
  {
   "cell_type": "code",
   "execution_count": null,
   "id": "a102219a-6981-452c-bf5e-a4e8c4cc2905",
   "metadata": {},
   "outputs": [],
   "source": []
  }
 ],
 "metadata": {
  "kernelspec": {
   "display_name": "Python 3 (ipykernel)",
   "language": "python",
   "name": "python3"
  },
  "language_info": {
   "codemirror_mode": {
    "name": "ipython",
    "version": 3
   },
   "file_extension": ".py",
   "mimetype": "text/x-python",
   "name": "python",
   "nbconvert_exporter": "python",
   "pygments_lexer": "ipython3",
   "version": "3.10.7"
  }
 },
 "nbformat": 4,
 "nbformat_minor": 5
}
